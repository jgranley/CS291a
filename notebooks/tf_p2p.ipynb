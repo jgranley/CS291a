{
 "cells": [
  {
   "cell_type": "code",
   "execution_count": 26,
   "id": "dd273ebf-fd05-4747-a859-ad9eaa4ca5a1",
   "metadata": {},
   "outputs": [
    {
     "name": "stdout",
     "output_type": "stream",
     "text": [
      "1 Physical GPUs, 1 Logical GPUs\n"
     ]
    }
   ],
   "source": [
    "import os\n",
    "os.environ['CUDA_VISIBLE_DEVICES'] = '1'\n",
    "import tensorflow as tf\n",
    "\n",
    "import numpy as np\n",
    "import pulse2percept as p2p \n",
    "from pulse2percept.models import BiphasicAxonMapModel\n",
    "from pulse2percept.implants import ArgusII\n",
    "from pulse2percept.stimuli import BiphasicPulseTrain\n",
    "import matplotlib.pyplot as plt\n",
    "\n",
    "gpus = tf.config.list_physical_devices('GPU')\n",
    "if gpus:\n",
    "    try:\n",
    "        for gpu in gpus:\n",
    "            tf.config.experimental.set_memory_growth(gpu, True)\n",
    "        logical_gpus = tf.config.list_logical_devices('GPU')\n",
    "        print(len(gpus), \"Physical GPUs,\", len(logical_gpus), \"Logical GPUs\")\n",
    "    except RuntimeError as e:\n",
    "        # Memory growth must be set before GPUs have been initialized\n",
    "        print(e)"
   ]
  },
  {
   "cell_type": "code",
   "execution_count": 27,
   "id": "06a4c191-1237-4b5f-9a1e-68aa8e18caa3",
   "metadata": {},
   "outputs": [],
   "source": [
    "model = BiphasicAxonMapModel(engine='cython', min_ax_sensitivity=1e-2, a4=0, xystep = 0.4)\n",
    "model.build()\n",
    "bundles = model.grow_axon_bundles()\n",
    "axons = model.find_closest_axon(bundles)\n",
    "axon_contrib = model.calc_axon_sensitivity(axons, pad=True).astype(np.float32)\n",
    "implant = ArgusII()\n",
    "x = np.array([implant.earray[e].x for e in implant.electrodes], dtype='float32')\n",
    "y = np.array([implant.earray[e].y for e in implant.electrodes], dtype='float32')\n",
    "rho=model.rho"
   ]
  },
  {
   "cell_type": "code",
   "execution_count": 28,
   "id": "dd3da93f-fb68-49d0-a0dd-72740eaaf850",
   "metadata": {},
   "outputs": [],
   "source": [
    "def predict_freq_amp(amp, freq):\n",
    "    \"\"\" Eq 4 in paper, A_2*A_tilde + A_3*f + A_4 \"\"\"\n",
    "    return 0.1492147*amp + 0.0163851*freq\n",
    "\n",
    "def bright(freq, amp, pdur):\n",
    "    \"\"\"\n",
    "    Main function to be called by BiphasicAxonMapModel\n",
    "    Outputs value by which brightness contribution for each electrode should\n",
    "    be scaled by (F_bright).\n",
    "    Must support batching (freq, amp, pdur may be arrays)\n",
    "    \"\"\"\n",
    "    # Scale amp according to pdur (Eq 3 in paper) and then calculate F_{bright}\n",
    "    F_bright = predict_freq_amp(amp * scale_threshold(pdur), freq)\n",
    "    return F_bright\n",
    "\n",
    "def scale_threshold(pdur):\n",
    "    \"\"\" \n",
    "    Based on eq 3 in paper, this function produces the factor that amplitude\n",
    "    will be scaled by to produce a_tilde. Computes A_0 * t + A_1 (1/threshold)\n",
    "    \"\"\"\n",
    "    return 0.054326 + 2.095*pdur\n",
    "\n",
    "def size(freq, amp, pdur):\n",
    "    \"\"\"\n",
    "    Main function to be called by BiphasicAxonMapModel\n",
    "    Outputs value for each electrode that rho should be scaled by (F_size)\n",
    "    Must support batching (freq, amp, pdur may be arrays)\n",
    "    \"\"\"\n",
    "    min_f_size = 10**2 / 200**2\n",
    "    F_size = 1.0812 * amp * scale_threshold(pdur) -0.35338\n",
    "    return tf.maximum(F_size, min_f_size)\n",
    "\n",
    "def streak( freq, amp, pdur):\n",
    "    \"\"\"\n",
    "    Main function to be called by BiphasicAxonMapModel\n",
    "    Outputs value for each electrode that lambda should be scaled by (F_streak)\n",
    "    Must support batching (freq, amp, pdur may be arrays)\n",
    "    \"\"\"\n",
    "    min_f_streak = 10**2 / 800 ** 2\n",
    "    F_streak = 1.56 - 0.54 * pdur ** 0.21\n",
    "    return tf.maximum(F_streak, min_f_streak)"
   ]
  },
  {
   "cell_type": "code",
   "execution_count": 29,
   "id": "2163b110-3655-4cac-8600-dd99cba33429",
   "metadata": {},
   "outputs": [],
   "source": [
    "@tf.function\n",
    "def biphasic_axon_map_batched(elec_params, x, y, axon_segments, rho):\n",
    "    bright_effects = bright(elec_params[:, :, 0], \n",
    "                                      elec_params[:, :, 1], \n",
    "                                      elec_params[:, :, 2])\n",
    "    size_effects = size(elec_params[:, :, 0], \n",
    "                                  elec_params[:, :, 1], \n",
    "                                  elec_params[:, :, 2])\n",
    "    streak_effects = streak(elec_params[:, :, 0], \n",
    "                                      elec_params[:, :, 1], \n",
    "                                      elec_params[:, :, 2])\n",
    "    eparams = tf.stack([bright_effects, size_effects, streak_effects], axis=2)\n",
    "    # print(eparams)\n",
    "\n",
    "    d2_el = (axon_segments[:, :, 0, None] - x)**2 + (axon_segments[:, :, 1, None] - y)**2\n",
    "    intensities = eparams[:, None, None, :, 0] * tf.math.exp(-d2_el[None, :, :, :] / (2. * rho**2 * eparams[:, :, 1])[:, None, None, :]) * (axon_segments[None, :, :, 2, None] ** (1./eparams[:, None, None, :, 2]))\n",
    "    # return intensities\n",
    "    return tf.reduce_max(tf.reduce_sum(intensities, axis=-1), axis=-1)\n",
    "\n",
    "@tf.function\n",
    "def biphasic_axon_map_single(elec_params, x, y, axon_segments, rho):\n",
    "    bright_effects = bright(elec_params[ :, 0], \n",
    "                                      elec_params[:, 1], \n",
    "                                      elec_params[:, 2])\n",
    "    size_effects = size(elec_params[:, 0], \n",
    "                                  elec_params[:, 1], \n",
    "                                  elec_params[:, 2])\n",
    "    streak_effects = streak(elec_params[:, 0], \n",
    "                                      elec_params[:, 1], \n",
    "                                      elec_params[:, 2])\n",
    "    eparams = tf.stack([bright_effects, size_effects, streak_effects], axis=1)\n",
    "\n",
    "    d2_el = (axon_segments[:, :, 0, None] - x)**2 + (axon_segments[:, :, 1, None] - y)**2\n",
    "    intensities = eparams[:, 0] * tf.math.exp(-d2_el / (2. * rho**2 * eparams[:, 1])) * (axon_segments[:, :, 2, None] ** (1./eparams[:, 2]))\n",
    "    resp = tf.math.reduce_max(tf.math.reduce_sum(intensities, axis=-1), axis=-1)\n",
    "    return resp\n",
    "\n",
    "\n",
    "# def predict_one_point_tf(axon, eparams, x, y, rho):\n",
    "#     d2_el = (axon[:, :, 0, None] - x)**2 + (axon[:, :, 1, None] - y)**2\n",
    "#     intensities = eparams[:, 0] * tf.math.exp(-d2_el / (2. * rho**2 * eparams[:, 1])) * (axon[:, 2, None] ** (1./eparams[:, 2]))\n",
    "#     return tf.math.reduce_max(tf.math.reduce_sum(intensities, axis=-1), axis=-1)"
   ]
  },
  {
   "cell_type": "code",
   "execution_count": 30,
   "id": "3fad1cca-8018-4b02-bedd-825a5081dc2b",
   "metadata": {},
   "outputs": [
    {
     "data": {
      "text/plain": [
       "<matplotlib.image.AxesImage at 0x7efbdc15aa00>"
      ]
     },
     "execution_count": 30,
     "metadata": {},
     "output_type": "execute_result"
    },
    {
     "data": {
      "image/png": "[encoded data removed]",
      "text/plain": [
       "<Figure size 432x288 with 1 Axes>"
      ]
     },
     "metadata": {
      "needs_background": "light"
     },
     "output_type": "display_data"
    }
   ],
   "source": [
    "p = biphasic_axon_map_single(tf.ones((60, 3)), x, y, axon_contrib, rho)\n",
    "p.shape\n",
    "plt.imshow(np.array(p).reshape(76, 76), cmap='gray')"
   ]
  },
  {
   "cell_type": "code",
   "execution_count": 39,
   "id": "102cc4fc-681b-4236-8468-c07afa943a30",
   "metadata": {},
   "outputs": [
    {
     "name": "stdout",
     "output_type": "stream",
     "text": [
      "CPU times: user 2.18 ms, sys: 7.17 ms, total: 9.35 ms\n",
      "Wall time: 8.15 ms\n"
     ]
    }
   ],
   "source": [
    "%time p = biphasic_axon_map_single(tf.ones((4, 3)), x[:4], y[:4], axon_contrib, rho)"
   ]
  },
  {
   "cell_type": "code",
   "execution_count": 40,
   "id": "0cac7ce8-aded-48a4-b9a1-c9457a199c5b",
   "metadata": {},
   "outputs": [
    {
     "name": "stdout",
     "output_type": "stream",
     "text": [
      "CPU times: user 70.4 ms, sys: 635 µs, total: 71 ms\n",
      "Wall time: 68.8 ms\n"
     ]
    }
   ],
   "source": [
    "%time p = biphasic_axon_map_single(tf.ones((5, 3)), x[:5], y[:5], axon_contrib, rho)"
   ]
  },
  {
   "cell_type": "code",
   "execution_count": null,
   "id": "5b52d789-59c6-40ce-9878-0b980f210795",
   "metadata": {},
   "outputs": [],
   "source": [
    "a = biphasic_axon_map_batched(tf.ones((16, 15, 3)), x[:15], y[:15], axon_contrib, rho)"
   ]
  },
  {
   "cell_type": "code",
   "execution_count": 8,
   "id": "78c60dd4-90c5-499d-91e6-d7e590b4385a",
   "metadata": {},
   "outputs": [
    {
     "name": "stdout",
     "output_type": "stream",
     "text": [
      "CPU times: user 2.44 ms, sys: 1.64 ms, total: 4.07 ms\n",
      "Wall time: 3.19 ms\n"
     ]
    },
    {
     "data": {
      "text/plain": [
       "<tf.Tensor: shape=(64, 5776), dtype=float32, numpy=\n",
       "array([[8.87e-26, 1.04e-25, ..., 3.90e-15, 9.52e-16],\n",
       "       [8.87e-26, 1.04e-25, ..., 3.90e-15, 9.52e-16],\n",
       "       ...,\n",
       "       [8.87e-26, 1.04e-25, ..., 3.90e-15, 9.52e-16],\n",
       "       [8.87e-26, 1.04e-25, ..., 3.90e-15, 9.52e-16]], dtype=float32)>"
      ]
     },
     "execution_count": 8,
     "metadata": {},
     "output_type": "execute_result"
    }
   ],
   "source": [
    "%time biphasic_axon_map_batched(tf.ones((64, 60, 3)), x, y, axon_contrib, rho)"
   ]
  },
  {
   "cell_type": "code",
   "execution_count": 42,
   "id": "c363016d-6d01-4781-9135-8e1f83c036a1",
   "metadata": {},
   "outputs": [
    {
     "data": {
      "text/plain": [
       "<AxesSubplot:xlabel='x (degrees of visual angle)', ylabel='y (degrees of visual angle)'>"
      ]
     },
     "execution_count": 42,
     "metadata": {},
     "output_type": "execute_result"
    },
    {
     "data": {
      "image/png": "[encoded data removed]",
      "text/plain": [
       "<Figure size 432x288 with 1 Axes>"
      ]
     },
     "metadata": {
      "needs_background": "light"
     },
     "output_type": "display_data"
    }
   ],
   "source": [
    "stim = {e : BiphasicPulseTrain(1,1,1) for e in implant.electrodes}\n",
    "implant.stim = stim\n",
    "p1 = model.predict_percept(implant)\n",
    "p1.plot()"
   ]
  },
  {
   "cell_type": "code",
   "execution_count": 111,
   "id": "dad08f67-ac86-4eee-af40-40b34531ba01",
   "metadata": {},
   "outputs": [],
   "source": [
    "import tensorflow as tf\n",
    "from keras import backend as K\n",
    "import numpy as np\n",
    "from skimage.transform import resize\n",
    "\n",
    "import pulse2percept as p2p\n",
    "from pulse2percept.models import BiphasicAxonMapModel\n",
    "from pulse2percept.stimuli import BiphasicPulseTrain\n",
    "from pulse2percept.utils import center_image\n",
    "from pulse2percept.implants import ArgusII\n",
    "\n",
    "\n",
    "def get_loss(model, implant, regularize=None, reg_coef=0.05):\n",
    "    bundles = model.grow_axon_bundles()\n",
    "    axons = model.find_closest_axon(bundles)\n",
    "    axon_contrib = model.calc_axon_sensitivity(axons, pad=True).astype(np.float32)\n",
    "    axon_contrib = tf.constant(axon_contrib, dtype='float32')\n",
    "    x = tf.constant([implant[e].x for e in implant.electrodes], dtype='float32')\n",
    "    y = tf.constant([implant[e].y for e in implant.electrodes], dtype='float32')\n",
    "    rho = model.rho\n",
    "    # get effect models. Need to reimplement them in tensorflow fashion\n",
    "    def scale_threshold(pdur):\n",
    "        return model.a1 + model.a0*pdur\n",
    "    def predict_freq_amp(amp, freq):\n",
    "        return model.a2*amp + model.a3*freq\n",
    "    def bright(freq, amp, pdur):\n",
    "        F_bright = predict_freq_amp(amp * scale_threshold(pdur), freq)\n",
    "        return F_bright\n",
    "    def size(freq, amp, pdur):\n",
    "        min_f_size = 10**2 / (model.rho**2)\n",
    "        F_size = model.a5 * amp * model.scale_threshold(pdur) + model.a6\n",
    "        return tf.maximum(F_size, min_f_size)\n",
    "    def streak(freq, amp, pdur):\n",
    "        min_f_streak = 10**2 / (model.axlambda ** 2)\n",
    "        F_streak = model.a9 - model.a7 * pdur ** model.a8\n",
    "        return tf.maximum(F_streak, min_f_streak)\n",
    "\n",
    "    # def reg_none(y_pred):\n",
    "    #     return tf.zeros((len(y_pred)))\n",
    "    # def reg_l1(y_pred):\n",
    "    #     return tf.reduce_sum(tf.abs(y_pred), axis=-1) \n",
    "    # def reg_l2(y_pred):\n",
    "    #     return tf.reduce_mean(y_pred**2, axis=-1)\n",
    "    # if regularize is None:\n",
    "    #     reg = reg_none\n",
    "    # elif regularize == 'l1':\n",
    "    #     reg = reg_l1\n",
    "    # elif regularize == 'l2':\n",
    "    #     reg = reg_l2\n",
    "\n",
    "    def biphasic_axon_map_batched(ypred):\n",
    "        bright_effects = bright(ypred[:, :, 0], \n",
    "                                ypred[:, :, 1], \n",
    "                                ypred[:, :, 2])\n",
    "        size_effects = size(ypred[:, :, 0], \n",
    "                            ypred[:, :, 1], \n",
    "                            ypred[:, :, 2])\n",
    "        streak_effects = streak(ypred[:, :, 0], \n",
    "                                ypred[:, :, 1], \n",
    "                                ypred[:, :, 2])\n",
    "        eparams = tf.stack([bright_effects, size_effects, streak_effects], axis=2)\n",
    "        d2_el = (axon_contrib[:, :, 0, None] - x)**2 + (axon_contrib[:, :, 1, None] - y)**2\n",
    "        intensities = eparams[:, None, None, :, 0] * tf.math.exp(-d2_el[None, :, :, :] / (2. * rho**2 * eparams[:, :, 1])[:, None, None, :]) * (axon_contrib[None, :, :, 2, None] ** (1./eparams[:, None, None, :, 2]))\n",
    "        return tf.reduce_max(tf.reduce_sum(intensities, axis=-1), axis=-1)\n",
    "    # assumes model outputs same shape as ytrue\n",
    "    def mse(ytrue, ypred):\n",
    "        pred_imgs = biphasic_axon_map_batched(ypred)\n",
    "        yt = tf.reshape(ytrue, pred_imgs.shape)\n",
    "        return tf.reduce_mean((pred_imgs - yt)**2, axis=-1)\n",
    "    \n",
    "    return mse"
   ]
  },
  {
   "cell_type": "code",
   "execution_count": 112,
   "id": "a99453a9-0a10-41ac-9103-b64f500e5578",
   "metadata": {},
   "outputs": [],
   "source": [
    "lossfn = get_loss(model, implant)"
   ]
  },
  {
   "cell_type": "code",
   "execution_count": 113,
   "id": "13de30a4-2bc6-4096-868c-c6dcf4c9f46b",
   "metadata": {},
   "outputs": [],
   "source": [
    "stim = np.ones((2, 60, 3), dtype='float32')\n",
    "# x = np.array([implant.earray[e].x for e in implant.electrodes], dtype='float32')\n",
    "# y = np.array([implant.earray[e].y for e in implant.electrodes], dtype='float32')\n",
    "stim_p2p = {e : BiphasicPulseTrain(1,1,1) for e in implant.electrodes}\n",
    "implant.stim = stim_p2p\n",
    "perc = model.predict_percept(implant)\n",
    "pdata = np.array([perc.data[:, :, 0], perc.data[:, :, 0]], dtype='float32')\n"
   ]
  },
  {
   "cell_type": "code",
   "execution_count": 115,
   "id": "0d2bbedb-81e0-46fb-b501-ae10a5ad1fed",
   "metadata": {},
   "outputs": [
    {
     "name": "stdout",
     "output_type": "stream",
     "text": [
      "4.13 ms ± 226 µs per loop (mean ± std. dev. of 7 runs, 100 loops each)\n"
     ]
    }
   ],
   "source": [
    "%timeit lossfn(pdata, stim)"
   ]
  },
  {
   "cell_type": "code",
   "execution_count": null,
   "id": "14354fbc-5a1a-411f-b011-98b754b4c77e",
   "metadata": {},
   "outputs": [],
   "source": []
  }
 ],
 "metadata": {
  "kernelspec": {
   "display_name": "Python 3",
   "language": "python",
   "name": "python3"
  },
  "language_info": {
   "codemirror_mode": {
    "name": "ipython",
    "version": 3
   },
   "file_extension": ".py",
   "mimetype": "text/x-python",
   "name": "python",
   "nbconvert_exporter": "python",
   "pygments_lexer": "ipython3",
   "version": "3.8.12"
  }
 },
 "nbformat": 4,
 "nbformat_minor": 5
}
